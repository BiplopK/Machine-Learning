{
 "cells": [
  {
   "cell_type": "code",
   "execution_count": 5,
   "id": "49790d02",
   "metadata": {},
   "outputs": [],
   "source": [
    "import pandas as pd\n",
    "import numpy as np\n",
    "import matplotlib.pyplot as plt"
   ]
  },
  {
   "cell_type": "code",
   "execution_count": 6,
   "id": "652a23d7",
   "metadata": {},
   "outputs": [],
   "source": [
    "df=pd.read_csv(\"datam.csv\",header=None)"
   ]
  },
  {
   "cell_type": "code",
   "execution_count": 5,
   "id": "1ded41fc",
   "metadata": {},
   "outputs": [
    {
     "data": {
      "text/html": [
       "<div>\n",
       "<style scoped>\n",
       "    .dataframe tbody tr th:only-of-type {\n",
       "        vertical-align: middle;\n",
       "    }\n",
       "\n",
       "    .dataframe tbody tr th {\n",
       "        vertical-align: top;\n",
       "    }\n",
       "\n",
       "    .dataframe thead th {\n",
       "        text-align: right;\n",
       "    }\n",
       "</style>\n",
       "<table border=\"1\" class=\"dataframe\">\n",
       "  <thead>\n",
       "    <tr style=\"text-align: right;\">\n",
       "      <th></th>\n",
       "      <th>0</th>\n",
       "      <th>1</th>\n",
       "    </tr>\n",
       "  </thead>\n",
       "  <tbody>\n",
       "    <tr>\n",
       "      <th>0</th>\n",
       "      <td>32.502345</td>\n",
       "      <td>31.707006</td>\n",
       "    </tr>\n",
       "    <tr>\n",
       "      <th>1</th>\n",
       "      <td>53.426804</td>\n",
       "      <td>68.777596</td>\n",
       "    </tr>\n",
       "    <tr>\n",
       "      <th>2</th>\n",
       "      <td>61.530358</td>\n",
       "      <td>62.562382</td>\n",
       "    </tr>\n",
       "    <tr>\n",
       "      <th>3</th>\n",
       "      <td>47.475640</td>\n",
       "      <td>71.546632</td>\n",
       "    </tr>\n",
       "    <tr>\n",
       "      <th>4</th>\n",
       "      <td>59.813208</td>\n",
       "      <td>87.230925</td>\n",
       "    </tr>\n",
       "  </tbody>\n",
       "</table>\n",
       "</div>"
      ],
      "text/plain": [
       "           0          1\n",
       "0  32.502345  31.707006\n",
       "1  53.426804  68.777596\n",
       "2  61.530358  62.562382\n",
       "3  47.475640  71.546632\n",
       "4  59.813208  87.230925"
      ]
     },
     "execution_count": 5,
     "metadata": {},
     "output_type": "execute_result"
    }
   ],
   "source": [
    "df.head()"
   ]
  },
  {
   "cell_type": "code",
   "execution_count": 10,
   "id": "783d4eb1",
   "metadata": {},
   "outputs": [],
   "source": [
    "df.columns=[\"data1\",\"data2\"]"
   ]
  },
  {
   "cell_type": "code",
   "execution_count": 11,
   "id": "f3035bf1",
   "metadata": {},
   "outputs": [
    {
     "data": {
      "text/html": [
       "<div>\n",
       "<style scoped>\n",
       "    .dataframe tbody tr th:only-of-type {\n",
       "        vertical-align: middle;\n",
       "    }\n",
       "\n",
       "    .dataframe tbody tr th {\n",
       "        vertical-align: top;\n",
       "    }\n",
       "\n",
       "    .dataframe thead th {\n",
       "        text-align: right;\n",
       "    }\n",
       "</style>\n",
       "<table border=\"1\" class=\"dataframe\">\n",
       "  <thead>\n",
       "    <tr style=\"text-align: right;\">\n",
       "      <th></th>\n",
       "      <th>data1</th>\n",
       "      <th>data2</th>\n",
       "    </tr>\n",
       "  </thead>\n",
       "  <tbody>\n",
       "    <tr>\n",
       "      <th>0</th>\n",
       "      <td>32.502345</td>\n",
       "      <td>31.707006</td>\n",
       "    </tr>\n",
       "    <tr>\n",
       "      <th>1</th>\n",
       "      <td>53.426804</td>\n",
       "      <td>68.777596</td>\n",
       "    </tr>\n",
       "    <tr>\n",
       "      <th>2</th>\n",
       "      <td>61.530358</td>\n",
       "      <td>62.562382</td>\n",
       "    </tr>\n",
       "    <tr>\n",
       "      <th>3</th>\n",
       "      <td>47.475640</td>\n",
       "      <td>71.546632</td>\n",
       "    </tr>\n",
       "    <tr>\n",
       "      <th>4</th>\n",
       "      <td>59.813208</td>\n",
       "      <td>87.230925</td>\n",
       "    </tr>\n",
       "  </tbody>\n",
       "</table>\n",
       "</div>"
      ],
      "text/plain": [
       "       data1      data2\n",
       "0  32.502345  31.707006\n",
       "1  53.426804  68.777596\n",
       "2  61.530358  62.562382\n",
       "3  47.475640  71.546632\n",
       "4  59.813208  87.230925"
      ]
     },
     "execution_count": 11,
     "metadata": {},
     "output_type": "execute_result"
    }
   ],
   "source": [
    "df.head()"
   ]
  },
  {
   "cell_type": "code",
   "execution_count": 15,
   "id": "1a807c9c",
   "metadata": {},
   "outputs": [],
   "source": [
    "x=df.iloc[:,0]\n",
    "y=df.iloc[:,1]"
   ]
  },
  {
   "cell_type": "code",
   "execution_count": 16,
   "id": "4123bece",
   "metadata": {},
   "outputs": [
    {
     "data": {
      "text/plain": [
       "0     32.502345\n",
       "1     53.426804\n",
       "2     61.530358\n",
       "3     47.475640\n",
       "4     59.813208\n",
       "        ...    \n",
       "95    50.030174\n",
       "96    49.239765\n",
       "97    50.039576\n",
       "98    48.149859\n",
       "99    25.128485\n",
       "Name: data1, Length: 100, dtype: float64"
      ]
     },
     "execution_count": 16,
     "metadata": {},
     "output_type": "execute_result"
    }
   ],
   "source": [
    "x"
   ]
  },
  {
   "cell_type": "code",
   "execution_count": 17,
   "id": "71e7760c",
   "metadata": {},
   "outputs": [
    {
     "data": {
      "text/plain": [
       "0     31.707006\n",
       "1     68.777596\n",
       "2     62.562382\n",
       "3     71.546632\n",
       "4     87.230925\n",
       "        ...    \n",
       "95    81.536991\n",
       "96    72.111832\n",
       "97    85.232007\n",
       "98    66.224958\n",
       "99    53.454394\n",
       "Name: data2, Length: 100, dtype: float64"
      ]
     },
     "execution_count": 17,
     "metadata": {},
     "output_type": "execute_result"
    }
   ],
   "source": [
    "y"
   ]
  },
  {
   "cell_type": "code",
   "execution_count": 18,
   "id": "b357cb03",
   "metadata": {},
   "outputs": [
    {
     "data": {
      "text/plain": [
       "<matplotlib.collections.PathCollection at 0x1ab31e3c670>"
      ]
     },
     "execution_count": 18,
     "metadata": {},
     "output_type": "execute_result"
    },
    {
     "data": {
      "image/png": "[encoded data removed]",
      "text/plain": [
       "<Figure size 432x288 with 1 Axes>"
      ]
     },
     "metadata": {
      "needs_background": "light"
     },
     "output_type": "display_data"
    }
   ],
   "source": [
    "plt.scatter(x,y)"
   ]
  },
  {
   "cell_type": "code",
   "execution_count": 27,
   "id": "1c88aa85",
   "metadata": {},
   "outputs": [
    {
     "name": "stdout",
     "output_type": "stream",
     "text": [
      "1.4777440851894448 0.08893651993741357\n",
      "0     31.707006\n",
      "1     68.777596\n",
      "2     62.562382\n",
      "3     71.546632\n",
      "4     87.230925\n",
      "        ...    \n",
      "95    81.536991\n",
      "96    72.111832\n",
      "97    85.232007\n",
      "98    66.224958\n",
      "99    53.454394\n",
      "Name: data2, Length: 100, dtype: float64 0     48.119085\n",
      "1     79.040080\n",
      "2     91.015059\n",
      "3     70.245782\n",
      "4     88.477551\n",
      "        ...    \n",
      "95    74.020731\n",
      "96    72.852709\n",
      "97    74.034624\n",
      "98    71.242106\n",
      "99    37.222406\n",
      "Name: data1, Length: 100, dtype: float64\n"
     ]
    }
   ],
   "source": [
    "m=0\n",
    "c=0\n",
    "L=0.0001\n",
    "epochs=1000\n",
    "n=int(len(x))\n",
    "for i in range(epochs):\n",
    "    y_pred=m*x+c\n",
    "    d_m=(-2/n)*sum(x*(y-y_pred))\n",
    "    d_c=(-2/n)*sum((y-y_pred))\n",
    "    m=m-L*d_m\n",
    "    c=c-L*d_c\n",
    "y_pred=m*x+c\n",
    "print(m,c)\n",
    "print(y,y_pred)"
   ]
  },
  {
   "cell_type": "code",
   "execution_count": 29,
   "id": "46c8954c",
   "metadata": {},
   "outputs": [
    {
     "data": {
      "text/plain": [
       "[<matplotlib.lines.Line2D at 0x1ab31f82250>]"
      ]
     },
     "execution_count": 29,
     "metadata": {},
     "output_type": "execute_result"
    },
    {
     "data": {
      "image/png": "[encoded data removed]",
      "text/plain": [
       "<Figure size 432x288 with 1 Axes>"
      ]
     },
     "metadata": {
      "needs_background": "light"
     },
     "output_type": "display_data"
    }
   ],
   "source": [
    "plt.scatter(x,y)\n",
    "plt.plot([min(x),max(x)],[min(y_pred),max(y_pred)],color=\"red\")"
   ]
  },
  {
   "cell_type": "code",
   "execution_count": 33,
   "id": "c860b081",
   "metadata": {},
   "outputs": [
    {
     "name": "stdout",
     "output_type": "stream",
     "text": [
      "2.98214518244547\n"
     ]
    }
   ],
   "source": [
    "rmse=np.sqrt((sum(y-y_pred)**2)/n)\n",
    "print(rmse)"
   ]
  },
  {
   "cell_type": "code",
   "execution_count": 49,
   "id": "2f01ad66",
   "metadata": {},
   "outputs": [],
   "source": [
    "class LinearRegression:\n",
    "    def __init__(self,L,epochs,m,c):\n",
    "        self.L=L\n",
    "        self.epochs=epochs\n",
    "        self.m=m\n",
    "        self.c=c\n",
    "    def fit(self,x,y):\n",
    "        n=float(len(x))\n",
    "        for i in range(self.epochs):\n",
    "            y_pred=self.m*x+self.c\n",
    "            d_m=(-2/n)*sum(x*(y-y_pred))\n",
    "            d_c=(-2/n)*sum((y-y_pred))\n",
    "            m=self.m-self.L*d_m\n",
    "            c=self.c-self.L*d_c\n",
    "        return m,c\n",
    "        \n",
    "    def predict(self,m,c,x):\n",
    "        final_pred=m*x+c\n",
    "        return final_pred"
   ]
  },
  {
   "cell_type": "code",
   "execution_count": 51,
   "id": "3ec82f38",
   "metadata": {},
   "outputs": [
    {
     "name": "stdout",
     "output_type": "stream",
     "text": [
      "0     239.710603\n",
      "1     393.938573\n",
      "2     453.667463\n",
      "3     350.074308\n",
      "4     441.010859\n",
      "         ...    \n",
      "95    368.903025\n",
      "96    363.077155\n",
      "97    368.972321\n",
      "98    355.043778\n",
      "99    185.360067\n",
      "Name: 0, Length: 100, dtype: float64\n"
     ]
    }
   ],
   "source": [
    "\n",
    "m=0\n",
    "c=0\n",
    "x=df.iloc[:,0]\n",
    "y=df.iloc[:,1]\n",
    "model=LinearRegression(0.001,1000,0,0)\n",
    "m,c=model.fit(x,y)\n",
    "pred=model.predict(m,c,x)\n",
    "print(pred)"
   ]
  }
 ],
 "metadata": {
  "kernelspec": {
   "display_name": "Python 3 (ipykernel)",
   "language": "python",
   "name": "python3"
  },
  "language_info": {
   "codemirror_mode": {
    "name": "ipython",
    "version": 3
   },
   "file_extension": ".py",
   "mimetype": "text/x-python",
   "name": "python",
   "nbconvert_exporter": "python",
   "pygments_lexer": "ipython3",
   "version": "3.9.12"
  }
 },
 "nbformat": 4,
 "nbformat_minor": 5
}
